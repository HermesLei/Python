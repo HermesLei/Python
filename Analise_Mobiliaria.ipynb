{
  "nbformat": 4,
  "nbformat_minor": 0,
  "metadata": {
    "colab": {
      "provenance": [],
      "authorship_tag": "ABX9TyNYRQI/nSGLTS+nR3w1sGKi",
      "include_colab_link": true
    },
    "kernelspec": {
      "name": "python3",
      "display_name": "Python 3"
    },
    "language_info": {
      "name": "python"
    }
  },
  "cells": [
    {
      "cell_type": "markdown",
      "metadata": {
        "id": "view-in-github",
        "colab_type": "text"
      },
      "source": [
        "<a href=\"https://colab.research.google.com/github/HermesLei/Python/blob/main/Analise_Mobiliaria.ipynb\" target=\"_parent\"><img src=\"https://colab.research.google.com/assets/colab-badge.svg\" alt=\"Open In Colab\"/></a>"
      ]
    },
    {
      "cell_type": "code",
      "execution_count": 1,
      "metadata": {
        "colab": {
          "base_uri": "https://localhost:8080/"
        },
        "id": "Qz4mao9pfcx1",
        "outputId": "2358ae9f-3f0a-40f0-b745-63671060d53f"
      },
      "outputs": [
        {
          "output_type": "stream",
          "name": "stdout",
          "text": [
            "Looking in indexes: https://pypi.org/simple, https://us-python.pkg.dev/colab-wheels/public/simple/\n",
            "Requirement already satisfied: pandas in /usr/local/lib/python3.8/dist-packages (1.3.5)\n",
            "Requirement already satisfied: numpy>=1.17.3 in /usr/local/lib/python3.8/dist-packages (from pandas) (1.21.6)\n",
            "Requirement already satisfied: pytz>=2017.3 in /usr/local/lib/python3.8/dist-packages (from pandas) (2022.7.1)\n",
            "Requirement already satisfied: python-dateutil>=2.7.3 in /usr/local/lib/python3.8/dist-packages (from pandas) (2.8.2)\n",
            "Requirement already satisfied: six>=1.5 in /usr/local/lib/python3.8/dist-packages (from python-dateutil>=2.7.3->pandas) (1.15.0)\n",
            "Drive already mounted at /content/drive; to attempt to forcibly remount, call drive.mount(\"/content/drive\", force_remount=True).\n"
          ]
        }
      ],
      "source": [
        "!pip install pandas\n",
        "import pandas as pd\n",
        "import numpy as np\n",
        "import matplotlib.pyplot as plt\n",
        "import seaborn as sns\n",
        "from sklearn.linear_model import LinearRegression\n",
        "from sklearn.metrics import mean_squared_error, r2_score\n",
        "\n",
        "from google.colab import drive\n",
        "drive.mount('/content/drive')\n"
      ]
    },
    {
      "cell_type": "code",
      "source": [
        "# Carregar os dados em um DataFrame\n",
        "houses_sale = pd.read_csv(\"/content/drive/MyDrive/DATASET_SALTO/real_estate_salto_sp_casa_venda_35.csv\")\n",
        "apartments_sale = pd.read_csv(\"/content/drive/MyDrive/DATASET_SALTO/real_estate_salto_sp_apartamento_venda_35.csv\")\n",
        "houses_rent = pd.read_csv(\"/content/drive/MyDrive/DATASET_SALTO/real_estate_salto_sp_casa_aluguel_3.csv\")\n",
        "apartments_rent = pd.read_csv(\"/content/drive/MyDrive/DATASET_SALTO/real_estate_salto_sp_apartamento_aluguel_5.csv\")\n",
        "\n",
        "# Verificar as primeiras linhas do DataFrame\n",
        "houses_sale.head()"
      ],
      "metadata": {
        "colab": {
          "base_uri": "https://localhost:8080/",
          "height": 250
        },
        "id": "EHljeq0Lh0al",
        "outputId": "72d77ea1-1a95-4818-9c14-6bf9126697ba"
      },
      "execution_count": 2,
      "outputs": [
        {
          "output_type": "execute_result",
          "data": {
            "text/plain": [
              "                           nome_casa  \\\n",
              "0  Casa com 4 Quartos à Venda, 360m²   \n",
              "1  Casa com 3 Quartos à Venda, 219m²   \n",
              "2  Casa com 3 Quartos à Venda, 180m²   \n",
              "3  Casa com 4 Quartos à Venda, 300m²   \n",
              "4  Casa com 3 Quartos à Venda, 308m²   \n",
              "\n",
              "                                       endereço_casa    preco_casa  \\\n",
              "0   Rua Fortaleza, 342 - Jardim Panorama, Salto - SP    R$ 760.000   \n",
              "1  Rua das Palmas - Residencial Porto Seguro, Sal...    R$ 475.000   \n",
              "2         Rua Escócia - Jardim Elizabeth, Salto - SP    R$ 700.000   \n",
              "3  Rua dos Curumbatás - Urb Salto de São José, Sa...  R$ 1.562.000   \n",
              "4  Rua dos Pássaros, 0 - Residencial Lagos D Icar...    R$ 913.000   \n",
              "\n",
              "   metros_casa  quartos_casa  banheiros_casa  vagas_casa  \n",
              "0          360             4               5           2  \n",
              "1          219             3               2           2  \n",
              "2          180             3               2           2  \n",
              "3          300             4               3           4  \n",
              "4          308             3               4           2  "
            ],
            "text/html": [
              "\n",
              "  <div id=\"df-89d0d590-39c2-4944-b10f-7759bf7a2204\">\n",
              "    <div class=\"colab-df-container\">\n",
              "      <div>\n",
              "<style scoped>\n",
              "    .dataframe tbody tr th:only-of-type {\n",
              "        vertical-align: middle;\n",
              "    }\n",
              "\n",
              "    .dataframe tbody tr th {\n",
              "        vertical-align: top;\n",
              "    }\n",
              "\n",
              "    .dataframe thead th {\n",
              "        text-align: right;\n",
              "    }\n",
              "</style>\n",
              "<table border=\"1\" class=\"dataframe\">\n",
              "  <thead>\n",
              "    <tr style=\"text-align: right;\">\n",
              "      <th></th>\n",
              "      <th>nome_casa</th>\n",
              "      <th>endereço_casa</th>\n",
              "      <th>preco_casa</th>\n",
              "      <th>metros_casa</th>\n",
              "      <th>quartos_casa</th>\n",
              "      <th>banheiros_casa</th>\n",
              "      <th>vagas_casa</th>\n",
              "    </tr>\n",
              "  </thead>\n",
              "  <tbody>\n",
              "    <tr>\n",
              "      <th>0</th>\n",
              "      <td>Casa com 4 Quartos à Venda, 360m²</td>\n",
              "      <td>Rua Fortaleza, 342 - Jardim Panorama, Salto - SP</td>\n",
              "      <td>R$ 760.000</td>\n",
              "      <td>360</td>\n",
              "      <td>4</td>\n",
              "      <td>5</td>\n",
              "      <td>2</td>\n",
              "    </tr>\n",
              "    <tr>\n",
              "      <th>1</th>\n",
              "      <td>Casa com 3 Quartos à Venda, 219m²</td>\n",
              "      <td>Rua das Palmas - Residencial Porto Seguro, Sal...</td>\n",
              "      <td>R$ 475.000</td>\n",
              "      <td>219</td>\n",
              "      <td>3</td>\n",
              "      <td>2</td>\n",
              "      <td>2</td>\n",
              "    </tr>\n",
              "    <tr>\n",
              "      <th>2</th>\n",
              "      <td>Casa com 3 Quartos à Venda, 180m²</td>\n",
              "      <td>Rua Escócia - Jardim Elizabeth, Salto - SP</td>\n",
              "      <td>R$ 700.000</td>\n",
              "      <td>180</td>\n",
              "      <td>3</td>\n",
              "      <td>2</td>\n",
              "      <td>2</td>\n",
              "    </tr>\n",
              "    <tr>\n",
              "      <th>3</th>\n",
              "      <td>Casa com 4 Quartos à Venda, 300m²</td>\n",
              "      <td>Rua dos Curumbatás - Urb Salto de São José, Sa...</td>\n",
              "      <td>R$ 1.562.000</td>\n",
              "      <td>300</td>\n",
              "      <td>4</td>\n",
              "      <td>3</td>\n",
              "      <td>4</td>\n",
              "    </tr>\n",
              "    <tr>\n",
              "      <th>4</th>\n",
              "      <td>Casa com 3 Quartos à Venda, 308m²</td>\n",
              "      <td>Rua dos Pássaros, 0 - Residencial Lagos D Icar...</td>\n",
              "      <td>R$ 913.000</td>\n",
              "      <td>308</td>\n",
              "      <td>3</td>\n",
              "      <td>4</td>\n",
              "      <td>2</td>\n",
              "    </tr>\n",
              "  </tbody>\n",
              "</table>\n",
              "</div>\n",
              "      <button class=\"colab-df-convert\" onclick=\"convertToInteractive('df-89d0d590-39c2-4944-b10f-7759bf7a2204')\"\n",
              "              title=\"Convert this dataframe to an interactive table.\"\n",
              "              style=\"display:none;\">\n",
              "        \n",
              "  <svg xmlns=\"http://www.w3.org/2000/svg\" height=\"24px\"viewBox=\"0 0 24 24\"\n",
              "       width=\"24px\">\n",
              "    <path d=\"M0 0h24v24H0V0z\" fill=\"none\"/>\n",
              "    <path d=\"M18.56 5.44l.94 2.06.94-2.06 2.06-.94-2.06-.94-.94-2.06-.94 2.06-2.06.94zm-11 1L8.5 8.5l.94-2.06 2.06-.94-2.06-.94L8.5 2.5l-.94 2.06-2.06.94zm10 10l.94 2.06.94-2.06 2.06-.94-2.06-.94-.94-2.06-.94 2.06-2.06.94z\"/><path d=\"M17.41 7.96l-1.37-1.37c-.4-.4-.92-.59-1.43-.59-.52 0-1.04.2-1.43.59L10.3 9.45l-7.72 7.72c-.78.78-.78 2.05 0 2.83L4 21.41c.39.39.9.59 1.41.59.51 0 1.02-.2 1.41-.59l7.78-7.78 2.81-2.81c.8-.78.8-2.07 0-2.86zM5.41 20L4 18.59l7.72-7.72 1.47 1.35L5.41 20z\"/>\n",
              "  </svg>\n",
              "      </button>\n",
              "      \n",
              "  <style>\n",
              "    .colab-df-container {\n",
              "      display:flex;\n",
              "      flex-wrap:wrap;\n",
              "      gap: 12px;\n",
              "    }\n",
              "\n",
              "    .colab-df-convert {\n",
              "      background-color: #E8F0FE;\n",
              "      border: none;\n",
              "      border-radius: 50%;\n",
              "      cursor: pointer;\n",
              "      display: none;\n",
              "      fill: #1967D2;\n",
              "      height: 32px;\n",
              "      padding: 0 0 0 0;\n",
              "      width: 32px;\n",
              "    }\n",
              "\n",
              "    .colab-df-convert:hover {\n",
              "      background-color: #E2EBFA;\n",
              "      box-shadow: 0px 1px 2px rgba(60, 64, 67, 0.3), 0px 1px 3px 1px rgba(60, 64, 67, 0.15);\n",
              "      fill: #174EA6;\n",
              "    }\n",
              "\n",
              "    [theme=dark] .colab-df-convert {\n",
              "      background-color: #3B4455;\n",
              "      fill: #D2E3FC;\n",
              "    }\n",
              "\n",
              "    [theme=dark] .colab-df-convert:hover {\n",
              "      background-color: #434B5C;\n",
              "      box-shadow: 0px 1px 3px 1px rgba(0, 0, 0, 0.15);\n",
              "      filter: drop-shadow(0px 1px 2px rgba(0, 0, 0, 0.3));\n",
              "      fill: #FFFFFF;\n",
              "    }\n",
              "  </style>\n",
              "\n",
              "      <script>\n",
              "        const buttonEl =\n",
              "          document.querySelector('#df-89d0d590-39c2-4944-b10f-7759bf7a2204 button.colab-df-convert');\n",
              "        buttonEl.style.display =\n",
              "          google.colab.kernel.accessAllowed ? 'block' : 'none';\n",
              "\n",
              "        async function convertToInteractive(key) {\n",
              "          const element = document.querySelector('#df-89d0d590-39c2-4944-b10f-7759bf7a2204');\n",
              "          const dataTable =\n",
              "            await google.colab.kernel.invokeFunction('convertToInteractive',\n",
              "                                                     [key], {});\n",
              "          if (!dataTable) return;\n",
              "\n",
              "          const docLinkHtml = 'Like what you see? Visit the ' +\n",
              "            '<a target=\"_blank\" href=https://colab.research.google.com/notebooks/data_table.ipynb>data table notebook</a>'\n",
              "            + ' to learn more about interactive tables.';\n",
              "          element.innerHTML = '';\n",
              "          dataTable['output_type'] = 'display_data';\n",
              "          await google.colab.output.renderOutput(dataTable, element);\n",
              "          const docLink = document.createElement('div');\n",
              "          docLink.innerHTML = docLinkHtml;\n",
              "          element.appendChild(docLink);\n",
              "        }\n",
              "      </script>\n",
              "    </div>\n",
              "  </div>\n",
              "  "
            ]
          },
          "metadata": {},
          "execution_count": 2
        }
      ]
    },
    {
      "cell_type": "code",
      "source": [
        "# Verificar informações sobre o DataFrame\n",
        "houses_sale.info()\n"
      ],
      "metadata": {
        "colab": {
          "base_uri": "https://localhost:8080/"
        },
        "id": "NW6qjKGThWNZ",
        "outputId": "a5b8f62c-ad8d-4d57-bf0c-5c7f405ebe42"
      },
      "execution_count": 3,
      "outputs": [
        {
          "output_type": "stream",
          "name": "stdout",
          "text": [
            "<class 'pandas.core.frame.DataFrame'>\n",
            "RangeIndex: 1085 entries, 0 to 1084\n",
            "Data columns (total 7 columns):\n",
            " #   Column          Non-Null Count  Dtype \n",
            "---  ------          --------------  ----- \n",
            " 0   nome_casa       1085 non-null   object\n",
            " 1   endereço_casa   1085 non-null   object\n",
            " 2   preco_casa      1085 non-null   object\n",
            " 3   metros_casa     1085 non-null   int64 \n",
            " 4   quartos_casa    1085 non-null   int64 \n",
            " 5   banheiros_casa  1085 non-null   int64 \n",
            " 6   vagas_casa      1085 non-null   int64 \n",
            "dtypes: int64(4), object(3)\n",
            "memory usage: 59.5+ KB\n"
          ]
        }
      ]
    },
    {
      "cell_type": "code",
      "source": [
        "# Verificar as estatísticas descritivas do DataFrame\n",
        "houses_sale.describe()"
      ],
      "metadata": {
        "colab": {
          "base_uri": "https://localhost:8080/",
          "height": 300
        },
        "id": "WHF6AX6bhaYs",
        "outputId": "c189f541-b40a-44cb-857c-1783b5aa068b"
      },
      "execution_count": 4,
      "outputs": [
        {
          "output_type": "execute_result",
          "data": {
            "text/plain": [
              "       metros_casa  quartos_casa  banheiros_casa   vagas_casa\n",
              "count  1085.000000   1085.000000     1085.000000  1085.000000\n",
              "mean    185.213825      2.891244        2.669124     2.886636\n",
              "std      98.584261      0.773862        1.291548     2.691221\n",
              "min      35.000000      1.000000        1.000000     1.000000\n",
              "25%     110.000000      2.000000        2.000000     2.000000\n",
              "50%     164.000000      3.000000        2.000000     2.000000\n",
              "75%     290.000000      3.000000        3.000000     3.000000\n",
              "max     395.000000      5.000000        6.000000    18.000000"
            ],
            "text/html": [
              "\n",
              "  <div id=\"df-682124c7-182c-42ba-a83d-3c5cfa8f221b\">\n",
              "    <div class=\"colab-df-container\">\n",
              "      <div>\n",
              "<style scoped>\n",
              "    .dataframe tbody tr th:only-of-type {\n",
              "        vertical-align: middle;\n",
              "    }\n",
              "\n",
              "    .dataframe tbody tr th {\n",
              "        vertical-align: top;\n",
              "    }\n",
              "\n",
              "    .dataframe thead th {\n",
              "        text-align: right;\n",
              "    }\n",
              "</style>\n",
              "<table border=\"1\" class=\"dataframe\">\n",
              "  <thead>\n",
              "    <tr style=\"text-align: right;\">\n",
              "      <th></th>\n",
              "      <th>metros_casa</th>\n",
              "      <th>quartos_casa</th>\n",
              "      <th>banheiros_casa</th>\n",
              "      <th>vagas_casa</th>\n",
              "    </tr>\n",
              "  </thead>\n",
              "  <tbody>\n",
              "    <tr>\n",
              "      <th>count</th>\n",
              "      <td>1085.000000</td>\n",
              "      <td>1085.000000</td>\n",
              "      <td>1085.000000</td>\n",
              "      <td>1085.000000</td>\n",
              "    </tr>\n",
              "    <tr>\n",
              "      <th>mean</th>\n",
              "      <td>185.213825</td>\n",
              "      <td>2.891244</td>\n",
              "      <td>2.669124</td>\n",
              "      <td>2.886636</td>\n",
              "    </tr>\n",
              "    <tr>\n",
              "      <th>std</th>\n",
              "      <td>98.584261</td>\n",
              "      <td>0.773862</td>\n",
              "      <td>1.291548</td>\n",
              "      <td>2.691221</td>\n",
              "    </tr>\n",
              "    <tr>\n",
              "      <th>min</th>\n",
              "      <td>35.000000</td>\n",
              "      <td>1.000000</td>\n",
              "      <td>1.000000</td>\n",
              "      <td>1.000000</td>\n",
              "    </tr>\n",
              "    <tr>\n",
              "      <th>25%</th>\n",
              "      <td>110.000000</td>\n",
              "      <td>2.000000</td>\n",
              "      <td>2.000000</td>\n",
              "      <td>2.000000</td>\n",
              "    </tr>\n",
              "    <tr>\n",
              "      <th>50%</th>\n",
              "      <td>164.000000</td>\n",
              "      <td>3.000000</td>\n",
              "      <td>2.000000</td>\n",
              "      <td>2.000000</td>\n",
              "    </tr>\n",
              "    <tr>\n",
              "      <th>75%</th>\n",
              "      <td>290.000000</td>\n",
              "      <td>3.000000</td>\n",
              "      <td>3.000000</td>\n",
              "      <td>3.000000</td>\n",
              "    </tr>\n",
              "    <tr>\n",
              "      <th>max</th>\n",
              "      <td>395.000000</td>\n",
              "      <td>5.000000</td>\n",
              "      <td>6.000000</td>\n",
              "      <td>18.000000</td>\n",
              "    </tr>\n",
              "  </tbody>\n",
              "</table>\n",
              "</div>\n",
              "      <button class=\"colab-df-convert\" onclick=\"convertToInteractive('df-682124c7-182c-42ba-a83d-3c5cfa8f221b')\"\n",
              "              title=\"Convert this dataframe to an interactive table.\"\n",
              "              style=\"display:none;\">\n",
              "        \n",
              "  <svg xmlns=\"http://www.w3.org/2000/svg\" height=\"24px\"viewBox=\"0 0 24 24\"\n",
              "       width=\"24px\">\n",
              "    <path d=\"M0 0h24v24H0V0z\" fill=\"none\"/>\n",
              "    <path d=\"M18.56 5.44l.94 2.06.94-2.06 2.06-.94-2.06-.94-.94-2.06-.94 2.06-2.06.94zm-11 1L8.5 8.5l.94-2.06 2.06-.94-2.06-.94L8.5 2.5l-.94 2.06-2.06.94zm10 10l.94 2.06.94-2.06 2.06-.94-2.06-.94-.94-2.06-.94 2.06-2.06.94z\"/><path d=\"M17.41 7.96l-1.37-1.37c-.4-.4-.92-.59-1.43-.59-.52 0-1.04.2-1.43.59L10.3 9.45l-7.72 7.72c-.78.78-.78 2.05 0 2.83L4 21.41c.39.39.9.59 1.41.59.51 0 1.02-.2 1.41-.59l7.78-7.78 2.81-2.81c.8-.78.8-2.07 0-2.86zM5.41 20L4 18.59l7.72-7.72 1.47 1.35L5.41 20z\"/>\n",
              "  </svg>\n",
              "      </button>\n",
              "      \n",
              "  <style>\n",
              "    .colab-df-container {\n",
              "      display:flex;\n",
              "      flex-wrap:wrap;\n",
              "      gap: 12px;\n",
              "    }\n",
              "\n",
              "    .colab-df-convert {\n",
              "      background-color: #E8F0FE;\n",
              "      border: none;\n",
              "      border-radius: 50%;\n",
              "      cursor: pointer;\n",
              "      display: none;\n",
              "      fill: #1967D2;\n",
              "      height: 32px;\n",
              "      padding: 0 0 0 0;\n",
              "      width: 32px;\n",
              "    }\n",
              "\n",
              "    .colab-df-convert:hover {\n",
              "      background-color: #E2EBFA;\n",
              "      box-shadow: 0px 1px 2px rgba(60, 64, 67, 0.3), 0px 1px 3px 1px rgba(60, 64, 67, 0.15);\n",
              "      fill: #174EA6;\n",
              "    }\n",
              "\n",
              "    [theme=dark] .colab-df-convert {\n",
              "      background-color: #3B4455;\n",
              "      fill: #D2E3FC;\n",
              "    }\n",
              "\n",
              "    [theme=dark] .colab-df-convert:hover {\n",
              "      background-color: #434B5C;\n",
              "      box-shadow: 0px 1px 3px 1px rgba(0, 0, 0, 0.15);\n",
              "      filter: drop-shadow(0px 1px 2px rgba(0, 0, 0, 0.3));\n",
              "      fill: #FFFFFF;\n",
              "    }\n",
              "  </style>\n",
              "\n",
              "      <script>\n",
              "        const buttonEl =\n",
              "          document.querySelector('#df-682124c7-182c-42ba-a83d-3c5cfa8f221b button.colab-df-convert');\n",
              "        buttonEl.style.display =\n",
              "          google.colab.kernel.accessAllowed ? 'block' : 'none';\n",
              "\n",
              "        async function convertToInteractive(key) {\n",
              "          const element = document.querySelector('#df-682124c7-182c-42ba-a83d-3c5cfa8f221b');\n",
              "          const dataTable =\n",
              "            await google.colab.kernel.invokeFunction('convertToInteractive',\n",
              "                                                     [key], {});\n",
              "          if (!dataTable) return;\n",
              "\n",
              "          const docLinkHtml = 'Like what you see? Visit the ' +\n",
              "            '<a target=\"_blank\" href=https://colab.research.google.com/notebooks/data_table.ipynb>data table notebook</a>'\n",
              "            + ' to learn more about interactive tables.';\n",
              "          element.innerHTML = '';\n",
              "          dataTable['output_type'] = 'display_data';\n",
              "          await google.colab.output.renderOutput(dataTable, element);\n",
              "          const docLink = document.createElement('div');\n",
              "          docLink.innerHTML = docLinkHtml;\n",
              "          element.appendChild(docLink);\n",
              "        }\n",
              "      </script>\n",
              "    </div>\n",
              "  </div>\n",
              "  "
            ]
          },
          "metadata": {},
          "execution_count": 4
        }
      ]
    },
    {
      "cell_type": "code",
      "source": [
        "# Verificar a correlação entre as variáveis do DataFrame\n",
        "houses_sale.corr()"
      ],
      "metadata": {
        "colab": {
          "base_uri": "https://localhost:8080/",
          "height": 175
        },
        "id": "t1zeT42nhch4",
        "outputId": "6de515b1-de21-4b0f-fac1-c908e8853cc8"
      },
      "execution_count": 5,
      "outputs": [
        {
          "output_type": "execute_result",
          "data": {
            "text/plain": [
              "                metros_casa  quartos_casa  banheiros_casa  vagas_casa\n",
              "metros_casa        1.000000      0.754002        0.850814    0.105127\n",
              "quartos_casa       0.754002      1.000000        0.713431   -0.019214\n",
              "banheiros_casa     0.850814      0.713431        1.000000    0.028744\n",
              "vagas_casa         0.105127     -0.019214        0.028744    1.000000"
            ],
            "text/html": [
              "\n",
              "  <div id=\"df-d50ba00e-32b5-47a8-af60-3e4e5c7de78d\">\n",
              "    <div class=\"colab-df-container\">\n",
              "      <div>\n",
              "<style scoped>\n",
              "    .dataframe tbody tr th:only-of-type {\n",
              "        vertical-align: middle;\n",
              "    }\n",
              "\n",
              "    .dataframe tbody tr th {\n",
              "        vertical-align: top;\n",
              "    }\n",
              "\n",
              "    .dataframe thead th {\n",
              "        text-align: right;\n",
              "    }\n",
              "</style>\n",
              "<table border=\"1\" class=\"dataframe\">\n",
              "  <thead>\n",
              "    <tr style=\"text-align: right;\">\n",
              "      <th></th>\n",
              "      <th>metros_casa</th>\n",
              "      <th>quartos_casa</th>\n",
              "      <th>banheiros_casa</th>\n",
              "      <th>vagas_casa</th>\n",
              "    </tr>\n",
              "  </thead>\n",
              "  <tbody>\n",
              "    <tr>\n",
              "      <th>metros_casa</th>\n",
              "      <td>1.000000</td>\n",
              "      <td>0.754002</td>\n",
              "      <td>0.850814</td>\n",
              "      <td>0.105127</td>\n",
              "    </tr>\n",
              "    <tr>\n",
              "      <th>quartos_casa</th>\n",
              "      <td>0.754002</td>\n",
              "      <td>1.000000</td>\n",
              "      <td>0.713431</td>\n",
              "      <td>-0.019214</td>\n",
              "    </tr>\n",
              "    <tr>\n",
              "      <th>banheiros_casa</th>\n",
              "      <td>0.850814</td>\n",
              "      <td>0.713431</td>\n",
              "      <td>1.000000</td>\n",
              "      <td>0.028744</td>\n",
              "    </tr>\n",
              "    <tr>\n",
              "      <th>vagas_casa</th>\n",
              "      <td>0.105127</td>\n",
              "      <td>-0.019214</td>\n",
              "      <td>0.028744</td>\n",
              "      <td>1.000000</td>\n",
              "    </tr>\n",
              "  </tbody>\n",
              "</table>\n",
              "</div>\n",
              "      <button class=\"colab-df-convert\" onclick=\"convertToInteractive('df-d50ba00e-32b5-47a8-af60-3e4e5c7de78d')\"\n",
              "              title=\"Convert this dataframe to an interactive table.\"\n",
              "              style=\"display:none;\">\n",
              "        \n",
              "  <svg xmlns=\"http://www.w3.org/2000/svg\" height=\"24px\"viewBox=\"0 0 24 24\"\n",
              "       width=\"24px\">\n",
              "    <path d=\"M0 0h24v24H0V0z\" fill=\"none\"/>\n",
              "    <path d=\"M18.56 5.44l.94 2.06.94-2.06 2.06-.94-2.06-.94-.94-2.06-.94 2.06-2.06.94zm-11 1L8.5 8.5l.94-2.06 2.06-.94-2.06-.94L8.5 2.5l-.94 2.06-2.06.94zm10 10l.94 2.06.94-2.06 2.06-.94-2.06-.94-.94-2.06-.94 2.06-2.06.94z\"/><path d=\"M17.41 7.96l-1.37-1.37c-.4-.4-.92-.59-1.43-.59-.52 0-1.04.2-1.43.59L10.3 9.45l-7.72 7.72c-.78.78-.78 2.05 0 2.83L4 21.41c.39.39.9.59 1.41.59.51 0 1.02-.2 1.41-.59l7.78-7.78 2.81-2.81c.8-.78.8-2.07 0-2.86zM5.41 20L4 18.59l7.72-7.72 1.47 1.35L5.41 20z\"/>\n",
              "  </svg>\n",
              "      </button>\n",
              "      \n",
              "  <style>\n",
              "    .colab-df-container {\n",
              "      display:flex;\n",
              "      flex-wrap:wrap;\n",
              "      gap: 12px;\n",
              "    }\n",
              "\n",
              "    .colab-df-convert {\n",
              "      background-color: #E8F0FE;\n",
              "      border: none;\n",
              "      border-radius: 50%;\n",
              "      cursor: pointer;\n",
              "      display: none;\n",
              "      fill: #1967D2;\n",
              "      height: 32px;\n",
              "      padding: 0 0 0 0;\n",
              "      width: 32px;\n",
              "    }\n",
              "\n",
              "    .colab-df-convert:hover {\n",
              "      background-color: #E2EBFA;\n",
              "      box-shadow: 0px 1px 2px rgba(60, 64, 67, 0.3), 0px 1px 3px 1px rgba(60, 64, 67, 0.15);\n",
              "      fill: #174EA6;\n",
              "    }\n",
              "\n",
              "    [theme=dark] .colab-df-convert {\n",
              "      background-color: #3B4455;\n",
              "      fill: #D2E3FC;\n",
              "    }\n",
              "\n",
              "    [theme=dark] .colab-df-convert:hover {\n",
              "      background-color: #434B5C;\n",
              "      box-shadow: 0px 1px 3px 1px rgba(0, 0, 0, 0.15);\n",
              "      filter: drop-shadow(0px 1px 2px rgba(0, 0, 0, 0.3));\n",
              "      fill: #FFFFFF;\n",
              "    }\n",
              "  </style>\n",
              "\n",
              "      <script>\n",
              "        const buttonEl =\n",
              "          document.querySelector('#df-d50ba00e-32b5-47a8-af60-3e4e5c7de78d button.colab-df-convert');\n",
              "        buttonEl.style.display =\n",
              "          google.colab.kernel.accessAllowed ? 'block' : 'none';\n",
              "\n",
              "        async function convertToInteractive(key) {\n",
              "          const element = document.querySelector('#df-d50ba00e-32b5-47a8-af60-3e4e5c7de78d');\n",
              "          const dataTable =\n",
              "            await google.colab.kernel.invokeFunction('convertToInteractive',\n",
              "                                                     [key], {});\n",
              "          if (!dataTable) return;\n",
              "\n",
              "          const docLinkHtml = 'Like what you see? Visit the ' +\n",
              "            '<a target=\"_blank\" href=https://colab.research.google.com/notebooks/data_table.ipynb>data table notebook</a>'\n",
              "            + ' to learn more about interactive tables.';\n",
              "          element.innerHTML = '';\n",
              "          dataTable['output_type'] = 'display_data';\n",
              "          await google.colab.output.renderOutput(dataTable, element);\n",
              "          const docLink = document.createElement('div');\n",
              "          docLink.innerHTML = docLinkHtml;\n",
              "          element.appendChild(docLink);\n",
              "        }\n",
              "      </script>\n",
              "    </div>\n",
              "  </div>\n",
              "  "
            ]
          },
          "metadata": {},
          "execution_count": 5
        }
      ]
    },
    {
      "cell_type": "code",
      "source": [
        "# Plotar um histograma dos preços das casas à venda\n",
        "sns.histplot(houses_sale['preco_casa'], kde=False, bins=20)"
      ],
      "metadata": {
        "colab": {
          "base_uri": "https://localhost:8080/",
          "height": 296
        },
        "id": "M3uugShuhfjF",
        "outputId": "419c5955-1628-4316-de87-4fba9c69a2ce"
      },
      "execution_count": 6,
      "outputs": [
        {
          "output_type": "execute_result",
          "data": {
            "text/plain": [
              "<matplotlib.axes._subplots.AxesSubplot at 0x7f64190b48e0>"
            ]
          },
          "metadata": {},
          "execution_count": 6
        },
        {
          "output_type": "display_data",
          "data": {
            "text/plain": [
              "<Figure size 432x288 with 1 Axes>"
            ],
            "image/png": "[encoded data removed]"
          },
          "metadata": {
            "needs_background": "light"
          }
        }
      ]
    },
    {
      "cell_type": "code",
      "source": [
        "# Ordenar o dataframe pelo preço da casa em ordem crescente\n",
        "houses_sale = houses_sale.sort_values(by='preco_casa')\n",
        "# Plotar um gráfico de dispersão do preço versus tamanho das casas à venda\n",
        "sns.scatterplot(x='metros_casa', y='preco_casa', data=houses_sale)\n",
        "plt.ylabel('Preço (em reais)')\n",
        "plt.yticks(range(0, 2000000, 100000))"
      ],
      "metadata": {
        "colab": {
          "base_uri": "https://localhost:8080/",
          "height": 656
        },
        "id": "EluvU2gfhioQ",
        "outputId": "2b0b3792-e184-45d1-e6db-03c021658d91"
      },
      "execution_count": 15,
      "outputs": [
        {
          "output_type": "execute_result",
          "data": {
            "text/plain": [
              "([<matplotlib.axis.YTick at 0x7f6413cd9070>,\n",
              "  <matplotlib.axis.YTick at 0x7f6413cd5c10>,\n",
              "  <matplotlib.axis.YTick at 0x7f6413c87dc0>,\n",
              "  <matplotlib.axis.YTick at 0x7f6413c8c490>,\n",
              "  <matplotlib.axis.YTick at 0x7f6413c87af0>,\n",
              "  <matplotlib.axis.YTick at 0x7f6413c82b80>,\n",
              "  <matplotlib.axis.YTick at 0x7f6413cfaaf0>,\n",
              "  <matplotlib.axis.YTick at 0x7f6413c8c7f0>,\n",
              "  <matplotlib.axis.YTick at 0x7f6413c8cd00>,\n",
              "  <matplotlib.axis.YTick at 0x7f6413cc4d90>,\n",
              "  <matplotlib.axis.YTick at 0x7f6413cecf10>,\n",
              "  <matplotlib.axis.YTick at 0x7f6413c93640>,\n",
              "  <matplotlib.axis.YTick at 0x7f6413c93b50>,\n",
              "  <matplotlib.axis.YTick at 0x7f6413c980a0>,\n",
              "  <matplotlib.axis.YTick at 0x7f6413c985b0>,\n",
              "  <matplotlib.axis.YTick at 0x7f6413c93c70>,\n",
              "  <matplotlib.axis.YTick at 0x7f6413c8ce80>,\n",
              "  <matplotlib.axis.YTick at 0x7f6413c82610>,\n",
              "  <matplotlib.axis.YTick at 0x7f6413c98130>,\n",
              "  <matplotlib.axis.YTick at 0x7f6413c98e80>],\n",
              " <a list of 20 Text major ticklabel objects>)"
            ]
          },
          "metadata": {},
          "execution_count": 15
        },
        {
          "output_type": "display_data",
          "data": {
            "text/plain": [
              "<Figure size 432x288 with 1 Axes>"
            ],
            "image/png": "[encoded data removed]"
          },
          "metadata": {
            "needs_background": "light"
          }
        }
      ]
    },
    {
      "cell_type": "code",
      "source": [
        "# Plotar um gráfico de barras com a contagem de casas à venda por número de quartos\n",
        "sns.countplot(x='quartos_casa', data=houses_sale)"
      ],
      "metadata": {
        "colab": {
          "base_uri": "https://localhost:8080/",
          "height": 297
        },
        "id": "eFQjzRvOhkwt",
        "outputId": "0e8b6115-dfa1-401b-f939-9e722de76a3e"
      },
      "execution_count": 8,
      "outputs": [
        {
          "output_type": "execute_result",
          "data": {
            "text/plain": [
              "<matplotlib.axes._subplots.AxesSubplot at 0x7f6418a71fa0>"
            ]
          },
          "metadata": {},
          "execution_count": 8
        },
        {
          "output_type": "display_data",
          "data": {
            "text/plain": [
              "<Figure size 432x288 with 1 Axes>"
            ],
            "image/png": "[encoded data removed]"
          },
          "metadata": {
            "needs_background": "light"
          }
        }
      ]
    },
    {
      "cell_type": "code",
      "source": [
        "#Verificar a correlação entre as variáveis:\n",
        "corr = houses_sale.corr()\n",
        "sns.heatmap(corr, annot=True, cmap='coolwarm')\n"
      ],
      "metadata": {
        "colab": {
          "base_uri": "https://localhost:8080/",
          "height": 354
        },
        "id": "NNkOd44ajNAy",
        "outputId": "f25edfd5-500f-4abe-9d31-26e317c80e8f"
      },
      "execution_count": 9,
      "outputs": [
        {
          "output_type": "execute_result",
          "data": {
            "text/plain": [
              "<matplotlib.axes._subplots.AxesSubplot at 0x7f64189ca790>"
            ]
          },
          "metadata": {},
          "execution_count": 9
        },
        {
          "output_type": "display_data",
          "data": {
            "text/plain": [
              "<Figure size 432x288 with 2 Axes>"
            ],
            "image/png": "[encoded data removed]"
          },
          "metadata": {
            "needs_background": "light"
          }
        }
      ]
    },
    {
      "cell_type": "code",
      "source": [
        "#Ajustar um modelo de regressão linear para prever o preço com base nas outras variáveis:\n",
        "houses_sale['preco_casa'] = houses_sale['preco_casa'].apply(lambda x: float(x.replace('R$ ', '').replace('.', '').replace(',', '.').replace(' /mês','')))\n",
        "X = houses_sale[['metros_casa', 'quartos_casa', 'banheiros_casa', 'vagas_casa']]\n",
        "y = houses_sale['preco_casa']\n",
        "reg = LinearRegression().fit(X, y)\n",
        "print(\"Coeficientes: \", reg.coef_)\n",
        "print(\"Intercept: \", reg.intercept_)\n",
        "y_pred = reg.predict(X)\n",
        "print(\"MSE: \", mean_squared_error(y, y_pred))\n",
        "print(\"R2: \", r2_score(y, y_pred))"
      ],
      "metadata": {
        "colab": {
          "base_uri": "https://localhost:8080/"
        },
        "id": "-W1yVlc-jPg4",
        "outputId": "ae100cc1-bf5b-40f0-d492-c716fbec3821"
      },
      "execution_count": 10,
      "outputs": [
        {
          "output_type": "stream",
          "name": "stdout",
          "text": [
            "Coeficientes:  [   307.68012835   4058.04907846 -14738.18973308   9020.3835933 ]\n",
            "Intercept:  667228.890820683\n",
            "MSE:  200162055040.3465\n",
            "R2:  0.005375374871642302\n"
          ]
        }
      ]
    },
    {
      "cell_type": "code",
      "source": [
        "#Fazer a previsão de preços com base nas outras variáveis:\n",
        "X_new = [[70, 2, 1, 1]] # valores arbitrários para ilustrar a previsão\n",
        "y_new = reg.predict(X_new)\n",
        "print(\"Previsão: \", y_new)"
      ],
      "metadata": {
        "colab": {
          "base_uri": "https://localhost:8080/"
        },
        "id": "hZEn3uL7mWyY",
        "outputId": "a069eaef-fc9a-4bc7-fa7c-b1ba4b26264f"
      },
      "execution_count": 11,
      "outputs": [
        {
          "output_type": "stream",
          "name": "stdout",
          "text": [
            "Previsão:  [691164.79182246]\n"
          ]
        },
        {
          "output_type": "stream",
          "name": "stderr",
          "text": [
            "/usr/local/lib/python3.8/dist-packages/sklearn/base.py:450: UserWarning: X does not have valid feature names, but LinearRegression was fitted with feature names\n",
            "  warnings.warn(\n"
          ]
        }
      ]
    },
    {
      "cell_type": "code",
      "source": [
        "#Plotar a linha de tendência e a previsão no mesmo gráfico:\n",
        "plt.scatter(houses_sale['metros_casa'], houses_sale['preco_casa'])\n",
        "plt.plot(houses_sale['metros_casa'], y_pred, color='red')\n",
        "plt.scatter(X_new[0][0], y_new, color='black')\n",
        "plt.show()"
      ],
      "metadata": {
        "colab": {
          "base_uri": "https://localhost:8080/",
          "height": 276
        },
        "id": "qqlYppL0m22O",
        "outputId": "ebf5c23b-6842-4964-baee-1a6c61aa5530"
      },
      "execution_count": 12,
      "outputs": [
        {
          "output_type": "display_data",
          "data": {
            "text/plain": [
              "<Figure size 432x288 with 1 Axes>"
            ],
            "image/png": "[encoded data removed]"
          },
          "metadata": {
            "needs_background": "light"
          }
        }
      ]
    }
  ]
}